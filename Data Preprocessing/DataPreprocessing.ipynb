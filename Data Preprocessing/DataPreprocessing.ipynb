{
 "cells": [
  {
   "cell_type": "code",
   "execution_count": 1,
   "metadata": {
    "id": "y6eyAYlhf3AJ",
    "tags": []
   },
   "outputs": [],
   "source": [
    "import numpy as np\n",
    "import pandas as pd\n",
    "from sklearn.utils import resample\n",
    "import re\n",
    "import matplotlib\n",
    "import matplotlib.pyplot as plt"
   ]
  },
  {
   "cell_type": "code",
   "execution_count": 2,
   "metadata": {
    "colab": {
     "base_uri": "https://localhost:8080/",
     "height": 262
    },
    "id": "ZcJdMtljf3DA",
    "outputId": "6a7df8cb-09e9-49a1-85ca-ed12dd74f18c",
    "tags": []
   },
   "outputs": [
    {
     "name": "stdout",
     "output_type": "stream",
     "text": [
      "The shape of data is: (500000, 46)\n"
     ]
    },
    {
     "data": {
      "text/html": [
       "<div>\n",
       "<style scoped>\n",
       "    .dataframe tbody tr th:only-of-type {\n",
       "        vertical-align: middle;\n",
       "    }\n",
       "\n",
       "    .dataframe tbody tr th {\n",
       "        vertical-align: top;\n",
       "    }\n",
       "\n",
       "    .dataframe thead th {\n",
       "        text-align: right;\n",
       "    }\n",
       "</style>\n",
       "<table border=\"1\" class=\"dataframe\">\n",
       "  <thead>\n",
       "    <tr style=\"text-align: right;\">\n",
       "      <th></th>\n",
       "      <th>ID</th>\n",
       "      <th>Source</th>\n",
       "      <th>Severity</th>\n",
       "      <th>Start_Time</th>\n",
       "      <th>End_Time</th>\n",
       "      <th>Start_Lat</th>\n",
       "      <th>Start_Lng</th>\n",
       "      <th>End_Lat</th>\n",
       "      <th>End_Lng</th>\n",
       "      <th>Distance(mi)</th>\n",
       "      <th>...</th>\n",
       "      <th>Roundabout</th>\n",
       "      <th>Station</th>\n",
       "      <th>Stop</th>\n",
       "      <th>Traffic_Calming</th>\n",
       "      <th>Traffic_Signal</th>\n",
       "      <th>Turning_Loop</th>\n",
       "      <th>Sunrise_Sunset</th>\n",
       "      <th>Civil_Twilight</th>\n",
       "      <th>Nautical_Twilight</th>\n",
       "      <th>Astronomical_Twilight</th>\n",
       "    </tr>\n",
       "  </thead>\n",
       "  <tbody>\n",
       "    <tr>\n",
       "      <th>0</th>\n",
       "      <td>A-2047758</td>\n",
       "      <td>Source2</td>\n",
       "      <td>2</td>\n",
       "      <td>2019-06-12 10:10:56</td>\n",
       "      <td>2019-06-12 10:55:58</td>\n",
       "      <td>30.641211</td>\n",
       "      <td>-91.153481</td>\n",
       "      <td>NaN</td>\n",
       "      <td>NaN</td>\n",
       "      <td>0.000</td>\n",
       "      <td>...</td>\n",
       "      <td>False</td>\n",
       "      <td>False</td>\n",
       "      <td>False</td>\n",
       "      <td>False</td>\n",
       "      <td>True</td>\n",
       "      <td>False</td>\n",
       "      <td>Day</td>\n",
       "      <td>Day</td>\n",
       "      <td>Day</td>\n",
       "      <td>Day</td>\n",
       "    </tr>\n",
       "    <tr>\n",
       "      <th>1</th>\n",
       "      <td>A-4694324</td>\n",
       "      <td>Source1</td>\n",
       "      <td>2</td>\n",
       "      <td>2022-12-03 23:37:14.000000000</td>\n",
       "      <td>2022-12-04 01:56:53.000000000</td>\n",
       "      <td>38.990562</td>\n",
       "      <td>-77.399070</td>\n",
       "      <td>38.990037</td>\n",
       "      <td>-77.398282</td>\n",
       "      <td>0.056</td>\n",
       "      <td>...</td>\n",
       "      <td>False</td>\n",
       "      <td>False</td>\n",
       "      <td>False</td>\n",
       "      <td>False</td>\n",
       "      <td>False</td>\n",
       "      <td>False</td>\n",
       "      <td>Night</td>\n",
       "      <td>Night</td>\n",
       "      <td>Night</td>\n",
       "      <td>Night</td>\n",
       "    </tr>\n",
       "    <tr>\n",
       "      <th>2</th>\n",
       "      <td>A-5006183</td>\n",
       "      <td>Source1</td>\n",
       "      <td>2</td>\n",
       "      <td>2022-08-20 13:13:00.000000000</td>\n",
       "      <td>2022-08-20 15:22:45.000000000</td>\n",
       "      <td>34.661189</td>\n",
       "      <td>-120.492822</td>\n",
       "      <td>34.661189</td>\n",
       "      <td>-120.492442</td>\n",
       "      <td>0.022</td>\n",
       "      <td>...</td>\n",
       "      <td>False</td>\n",
       "      <td>False</td>\n",
       "      <td>False</td>\n",
       "      <td>False</td>\n",
       "      <td>True</td>\n",
       "      <td>False</td>\n",
       "      <td>Day</td>\n",
       "      <td>Day</td>\n",
       "      <td>Day</td>\n",
       "      <td>Day</td>\n",
       "    </tr>\n",
       "  </tbody>\n",
       "</table>\n",
       "<p>3 rows × 46 columns</p>\n",
       "</div>"
      ],
      "text/plain": [
       "          ID   Source  Severity                     Start_Time  \\\n",
       "0  A-2047758  Source2         2            2019-06-12 10:10:56   \n",
       "1  A-4694324  Source1         2  2022-12-03 23:37:14.000000000   \n",
       "2  A-5006183  Source1         2  2022-08-20 13:13:00.000000000   \n",
       "\n",
       "                        End_Time  Start_Lat   Start_Lng    End_Lat  \\\n",
       "0            2019-06-12 10:55:58  30.641211  -91.153481        NaN   \n",
       "1  2022-12-04 01:56:53.000000000  38.990562  -77.399070  38.990037   \n",
       "2  2022-08-20 15:22:45.000000000  34.661189 -120.492822  34.661189   \n",
       "\n",
       "      End_Lng  Distance(mi)  ... Roundabout Station   Stop Traffic_Calming  \\\n",
       "0         NaN         0.000  ...      False   False  False           False   \n",
       "1  -77.398282         0.056  ...      False   False  False           False   \n",
       "2 -120.492442         0.022  ...      False   False  False           False   \n",
       "\n",
       "  Traffic_Signal Turning_Loop Sunrise_Sunset Civil_Twilight Nautical_Twilight  \\\n",
       "0           True        False            Day            Day               Day   \n",
       "1          False        False          Night          Night             Night   \n",
       "2           True        False            Day            Day               Day   \n",
       "\n",
       "  Astronomical_Twilight  \n",
       "0                   Day  \n",
       "1                 Night  \n",
       "2                   Day  \n",
       "\n",
       "[3 rows x 46 columns]"
      ]
     },
     "metadata": {},
     "output_type": "display_data"
    }
   ],
   "source": [
    "df = pd.read_csv('C:/Users/bhanu/Downloads/Semseter 4/Capstone 2/code/US_Accidents_March23_sampled_500k.csv')\n",
    "print(\"The shape of data is:\",(df.shape))\n",
    "display(df.head(3))"
   ]
  },
  {
   "cell_type": "code",
   "execution_count": 3,
   "metadata": {
    "colab": {
     "base_uri": "https://localhost:8080/"
    },
    "id": "3230QSPlf3JG",
    "outputId": "78537604-f8c0-401e-db31-1ac06374ca1b",
    "tags": []
   },
   "outputs": [
    {
     "name": "stdout",
     "output_type": "stream",
     "text": [
      "<class 'pandas.core.frame.DataFrame'>\n",
      "RangeIndex: 500000 entries, 0 to 499999\n",
      "Data columns (total 46 columns):\n",
      " #   Column                 Non-Null Count   Dtype  \n",
      "---  ------                 --------------   -----  \n",
      " 0   ID                     500000 non-null  object \n",
      " 1   Source                 500000 non-null  object \n",
      " 2   Severity               500000 non-null  int64  \n",
      " 3   Start_Time             500000 non-null  object \n",
      " 4   End_Time               500000 non-null  object \n",
      " 5   Start_Lat              500000 non-null  float64\n",
      " 6   Start_Lng              500000 non-null  float64\n",
      " 7   End_Lat                279623 non-null  float64\n",
      " 8   End_Lng                279623 non-null  float64\n",
      " 9   Distance(mi)           500000 non-null  float64\n",
      " 10  Description            499999 non-null  object \n",
      " 11  Street                 499309 non-null  object \n",
      " 12  City                   499981 non-null  object \n",
      " 13  County                 500000 non-null  object \n",
      " 14  State                  500000 non-null  object \n",
      " 15  Zipcode                499884 non-null  object \n",
      " 16  Country                500000 non-null  object \n",
      " 17  Timezone               499493 non-null  object \n",
      " 18  Airport_Code           498554 non-null  object \n",
      " 19  Weather_Timestamp      492326 non-null  object \n",
      " 20  Temperature(F)         489534 non-null  float64\n",
      " 21  Wind_Chill(F)          370983 non-null  float64\n",
      " 22  Humidity(%)            488870 non-null  float64\n",
      " 23  Pressure(in)           491072 non-null  float64\n",
      " 24  Visibility(mi)         488709 non-null  float64\n",
      " 25  Wind_Direction         488803 non-null  object \n",
      " 26  Wind_Speed(mph)        463013 non-null  float64\n",
      " 27  Precipitation(in)      357384 non-null  float64\n",
      " 28  Weather_Condition      488899 non-null  object \n",
      " 29  Amenity                500000 non-null  bool   \n",
      " 30  Bump                   500000 non-null  bool   \n",
      " 31  Crossing               500000 non-null  bool   \n",
      " 32  Give_Way               500000 non-null  bool   \n",
      " 33  Junction               500000 non-null  bool   \n",
      " 34  No_Exit                500000 non-null  bool   \n",
      " 35  Railway                500000 non-null  bool   \n",
      " 36  Roundabout             500000 non-null  bool   \n",
      " 37  Station                500000 non-null  bool   \n",
      " 38  Stop                   500000 non-null  bool   \n",
      " 39  Traffic_Calming        500000 non-null  bool   \n",
      " 40  Traffic_Signal         500000 non-null  bool   \n",
      " 41  Turning_Loop           500000 non-null  bool   \n",
      " 42  Sunrise_Sunset         498517 non-null  object \n",
      " 43  Civil_Twilight         498517 non-null  object \n",
      " 44  Nautical_Twilight      498517 non-null  object \n",
      " 45  Astronomical_Twilight  498517 non-null  object \n",
      "dtypes: bool(13), float64(12), int64(1), object(20)\n",
      "memory usage: 132.1+ MB\n"
     ]
    }
   ],
   "source": [
    "df.info()"
   ]
  },
  {
   "cell_type": "code",
   "execution_count": 4,
   "metadata": {
    "colab": {
     "base_uri": "https://localhost:8080/",
     "height": 1000
    },
    "id": "cRMhLrN1f3MI",
    "outputId": "4563e0a7-bb53-49d9-c0b1-a1833b5f0893",
    "tags": []
   },
   "outputs": [
    {
     "data": {
      "text/html": [
       "<div>\n",
       "<style scoped>\n",
       "    .dataframe tbody tr th:only-of-type {\n",
       "        vertical-align: middle;\n",
       "    }\n",
       "\n",
       "    .dataframe tbody tr th {\n",
       "        vertical-align: top;\n",
       "    }\n",
       "\n",
       "    .dataframe thead th {\n",
       "        text-align: right;\n",
       "    }\n",
       "</style>\n",
       "<table border=\"1\" class=\"dataframe\">\n",
       "  <thead>\n",
       "    <tr style=\"text-align: right;\">\n",
       "      <th></th>\n",
       "      <th>percent missing</th>\n",
       "    </tr>\n",
       "  </thead>\n",
       "  <tbody>\n",
       "    <tr>\n",
       "      <th>ID</th>\n",
       "      <td>0.0000</td>\n",
       "    </tr>\n",
       "    <tr>\n",
       "      <th>Amenity</th>\n",
       "      <td>0.0000</td>\n",
       "    </tr>\n",
       "    <tr>\n",
       "      <th>Give_Way</th>\n",
       "      <td>0.0000</td>\n",
       "    </tr>\n",
       "    <tr>\n",
       "      <th>Junction</th>\n",
       "      <td>0.0000</td>\n",
       "    </tr>\n",
       "    <tr>\n",
       "      <th>No_Exit</th>\n",
       "      <td>0.0000</td>\n",
       "    </tr>\n",
       "    <tr>\n",
       "      <th>Railway</th>\n",
       "      <td>0.0000</td>\n",
       "    </tr>\n",
       "    <tr>\n",
       "      <th>Roundabout</th>\n",
       "      <td>0.0000</td>\n",
       "    </tr>\n",
       "    <tr>\n",
       "      <th>Station</th>\n",
       "      <td>0.0000</td>\n",
       "    </tr>\n",
       "    <tr>\n",
       "      <th>Stop</th>\n",
       "      <td>0.0000</td>\n",
       "    </tr>\n",
       "    <tr>\n",
       "      <th>Traffic_Calming</th>\n",
       "      <td>0.0000</td>\n",
       "    </tr>\n",
       "    <tr>\n",
       "      <th>Traffic_Signal</th>\n",
       "      <td>0.0000</td>\n",
       "    </tr>\n",
       "    <tr>\n",
       "      <th>Turning_Loop</th>\n",
       "      <td>0.0000</td>\n",
       "    </tr>\n",
       "    <tr>\n",
       "      <th>Country</th>\n",
       "      <td>0.0000</td>\n",
       "    </tr>\n",
       "    <tr>\n",
       "      <th>Bump</th>\n",
       "      <td>0.0000</td>\n",
       "    </tr>\n",
       "    <tr>\n",
       "      <th>Crossing</th>\n",
       "      <td>0.0000</td>\n",
       "    </tr>\n",
       "    <tr>\n",
       "      <th>County</th>\n",
       "      <td>0.0000</td>\n",
       "    </tr>\n",
       "    <tr>\n",
       "      <th>Source</th>\n",
       "      <td>0.0000</td>\n",
       "    </tr>\n",
       "    <tr>\n",
       "      <th>Severity</th>\n",
       "      <td>0.0000</td>\n",
       "    </tr>\n",
       "    <tr>\n",
       "      <th>Start_Time</th>\n",
       "      <td>0.0000</td>\n",
       "    </tr>\n",
       "    <tr>\n",
       "      <th>Distance(mi)</th>\n",
       "      <td>0.0000</td>\n",
       "    </tr>\n",
       "    <tr>\n",
       "      <th>End_Time</th>\n",
       "      <td>0.0000</td>\n",
       "    </tr>\n",
       "    <tr>\n",
       "      <th>State</th>\n",
       "      <td>0.0000</td>\n",
       "    </tr>\n",
       "    <tr>\n",
       "      <th>Start_Lng</th>\n",
       "      <td>0.0000</td>\n",
       "    </tr>\n",
       "    <tr>\n",
       "      <th>Start_Lat</th>\n",
       "      <td>0.0000</td>\n",
       "    </tr>\n",
       "    <tr>\n",
       "      <th>Description</th>\n",
       "      <td>0.0002</td>\n",
       "    </tr>\n",
       "    <tr>\n",
       "      <th>City</th>\n",
       "      <td>0.0038</td>\n",
       "    </tr>\n",
       "    <tr>\n",
       "      <th>Zipcode</th>\n",
       "      <td>0.0232</td>\n",
       "    </tr>\n",
       "    <tr>\n",
       "      <th>Timezone</th>\n",
       "      <td>0.1014</td>\n",
       "    </tr>\n",
       "    <tr>\n",
       "      <th>Street</th>\n",
       "      <td>0.1382</td>\n",
       "    </tr>\n",
       "    <tr>\n",
       "      <th>Airport_Code</th>\n",
       "      <td>0.2892</td>\n",
       "    </tr>\n",
       "    <tr>\n",
       "      <th>Sunrise_Sunset</th>\n",
       "      <td>0.2966</td>\n",
       "    </tr>\n",
       "    <tr>\n",
       "      <th>Civil_Twilight</th>\n",
       "      <td>0.2966</td>\n",
       "    </tr>\n",
       "    <tr>\n",
       "      <th>Astronomical_Twilight</th>\n",
       "      <td>0.2966</td>\n",
       "    </tr>\n",
       "    <tr>\n",
       "      <th>Nautical_Twilight</th>\n",
       "      <td>0.2966</td>\n",
       "    </tr>\n",
       "    <tr>\n",
       "      <th>Weather_Timestamp</th>\n",
       "      <td>1.5348</td>\n",
       "    </tr>\n",
       "    <tr>\n",
       "      <th>Pressure(in)</th>\n",
       "      <td>1.7856</td>\n",
       "    </tr>\n",
       "    <tr>\n",
       "      <th>Temperature(F)</th>\n",
       "      <td>2.0932</td>\n",
       "    </tr>\n",
       "    <tr>\n",
       "      <th>Weather_Condition</th>\n",
       "      <td>2.2202</td>\n",
       "    </tr>\n",
       "    <tr>\n",
       "      <th>Humidity(%)</th>\n",
       "      <td>2.2260</td>\n",
       "    </tr>\n",
       "    <tr>\n",
       "      <th>Wind_Direction</th>\n",
       "      <td>2.2394</td>\n",
       "    </tr>\n",
       "    <tr>\n",
       "      <th>Visibility(mi)</th>\n",
       "      <td>2.2582</td>\n",
       "    </tr>\n",
       "    <tr>\n",
       "      <th>Wind_Speed(mph)</th>\n",
       "      <td>7.3974</td>\n",
       "    </tr>\n",
       "    <tr>\n",
       "      <th>Wind_Chill(F)</th>\n",
       "      <td>25.8034</td>\n",
       "    </tr>\n",
       "    <tr>\n",
       "      <th>Precipitation(in)</th>\n",
       "      <td>28.5232</td>\n",
       "    </tr>\n",
       "    <tr>\n",
       "      <th>End_Lng</th>\n",
       "      <td>44.0754</td>\n",
       "    </tr>\n",
       "    <tr>\n",
       "      <th>End_Lat</th>\n",
       "      <td>44.0754</td>\n",
       "    </tr>\n",
       "  </tbody>\n",
       "</table>\n",
       "</div>"
      ],
      "text/plain": [
       "                       percent missing\n",
       "ID                              0.0000\n",
       "Amenity                         0.0000\n",
       "Give_Way                        0.0000\n",
       "Junction                        0.0000\n",
       "No_Exit                         0.0000\n",
       "Railway                         0.0000\n",
       "Roundabout                      0.0000\n",
       "Station                         0.0000\n",
       "Stop                            0.0000\n",
       "Traffic_Calming                 0.0000\n",
       "Traffic_Signal                  0.0000\n",
       "Turning_Loop                    0.0000\n",
       "Country                         0.0000\n",
       "Bump                            0.0000\n",
       "Crossing                        0.0000\n",
       "County                          0.0000\n",
       "Source                          0.0000\n",
       "Severity                        0.0000\n",
       "Start_Time                      0.0000\n",
       "Distance(mi)                    0.0000\n",
       "End_Time                        0.0000\n",
       "State                           0.0000\n",
       "Start_Lng                       0.0000\n",
       "Start_Lat                       0.0000\n",
       "Description                     0.0002\n",
       "City                            0.0038\n",
       "Zipcode                         0.0232\n",
       "Timezone                        0.1014\n",
       "Street                          0.1382\n",
       "Airport_Code                    0.2892\n",
       "Sunrise_Sunset                  0.2966\n",
       "Civil_Twilight                  0.2966\n",
       "Astronomical_Twilight           0.2966\n",
       "Nautical_Twilight               0.2966\n",
       "Weather_Timestamp               1.5348\n",
       "Pressure(in)                    1.7856\n",
       "Temperature(F)                  2.0932\n",
       "Weather_Condition               2.2202\n",
       "Humidity(%)                     2.2260\n",
       "Wind_Direction                  2.2394\n",
       "Visibility(mi)                  2.2582\n",
       "Wind_Speed(mph)                 7.3974\n",
       "Wind_Chill(F)                  25.8034\n",
       "Precipitation(in)              28.5232\n",
       "End_Lng                        44.0754\n",
       "End_Lat                        44.0754"
      ]
     },
     "execution_count": 4,
     "metadata": {},
     "output_type": "execute_result"
    }
   ],
   "source": [
    "def sniff(df):\n",
    "        info = pd.DataFrame()\n",
    "        info['percent missing'] = df.isnull().sum()*100/len(df)\n",
    "        return info.sort_values('percent missing')\n",
    "\n",
    "sniff(df)"
   ]
  },
  {
   "cell_type": "code",
   "execution_count": 5,
   "metadata": {
    "colab": {
     "base_uri": "https://localhost:8080/",
     "height": 564
    },
    "id": "EMQ2tzBgf3PA",
    "outputId": "e37a456f-cfe0-4bad-dcee-112056d01a0e",
    "tags": []
   },
   "outputs": [
    {
     "data": {
      "image/png": "[encoded data removed]",
      "text/plain": [
       "<Figure size 1000x600 with 1 Axes>"
      ]
     },
     "metadata": {},
     "output_type": "display_data"
    }
   ],
   "source": [
    "# Calculate the count of accidents by severity\n",
    "severity_counts = df['Severity'].value_counts()\n",
    "\n",
    "# Plotting the severity counts as a bar chart\n",
    "plt.figure(figsize=(10, 6))\n",
    "severity_counts.plot(kind='bar')\n",
    "plt.title('Accident Severity Distribution')\n",
    "plt.xlabel('Severity Level')\n",
    "plt.ylabel('Number of Accidents')\n",
    "plt.xticks(rotation=0)\n",
    "plt.grid(axis='y', linestyle='--')\n",
    "\n",
    "# Show the plot\n",
    "plt.show()"
   ]
  },
  {
   "cell_type": "code",
   "execution_count": 6,
   "metadata": {
    "colab": {
     "base_uri": "https://localhost:8080/"
    },
    "id": "OuoD8J68f3R9",
    "outputId": "68eb885d-b358-4bba-b214-b0d7349722d3",
    "tags": []
   },
   "outputs": [
    {
     "data": {
      "text/plain": [
       "Severity_Merged\n",
       "0    13064\n",
       "1    13064\n",
       "2    13064\n",
       "Name: count, dtype: int64"
      ]
     },
     "execution_count": 6,
     "metadata": {},
     "output_type": "execute_result"
    }
   ],
   "source": [
    "import pandas as pd\n",
    "\n",
    "# Merging severity levels: 1 and 2 into 0, 3 into 1, and 4 into 2\n",
    "severity_mapping = {1: 0, 2: 0, 3: 1, 4: 2}\n",
    "df['Severity_Merged'] = df['Severity'].map(severity_mapping)\n",
    "\n",
    "# Separate the dataset into the three classes based on the new severity mapping\n",
    "df_minor = df[df['Severity_Merged'] == 0]\n",
    "df_moderate = df[df['Severity_Merged'] == 1]\n",
    "df_severe = df[df['Severity_Merged'] == 2]\n",
    "\n",
    "# Calculate the minimum number of samples among all severity classes\n",
    "min_samples = min(len(df_minor), len(df_major), len(df_severe))\n",
    "\n",
    "# Undersample each severity class to the minimum number of samples\n",
    "df_minor_undersampled = resample(df_minor,\n",
    "                               replace=False,\n",
    "                               n_samples=min_samples,\n",
    "                               random_state=123)\n",
    "df_major_undersampled = resample(df_major,\n",
    "                               replace=False,\n",
    "                               n_samples=min_samples,\n",
    "                               random_state=123)\n",
    "df_severe_undersampled = resample(df_severe,\n",
    "                                replace=False,\n",
    "                                n_samples=min_samples,\n",
    "                                random_state=123)\n",
    "\n",
    "# Combine the undersampled majority classes with the minority class\n",
    "df = pd.concat([df_minor_undersampled, df_major_undersampled, df_severe_undersampled])\n",
    "\n",
    "# Verifying the balance in the new DataFrame\n",
    "final_severity_counts = df['Severity_Merged'].value_counts()\n",
    "final_severity_counts"
   ]
  },
  {
   "cell_type": "code",
   "execution_count": 7,
   "metadata": {
    "id": "350LSKC_f3VO",
    "tags": []
   },
   "outputs": [],
   "source": [
    "# Fix datetime type\n",
    "df['Start_Time'] = pd.to_datetime(df['Start_Time'], errors='coerce')\n",
    "df['End_Time'] = pd.to_datetime(df['End_Time'], errors='coerce')\n",
    "df['Weather_Timestamp'] = pd.to_datetime(df['Weather_Timestamp'], errors='coerce')"
   ]
  },
  {
   "cell_type": "code",
   "execution_count": 8,
   "metadata": {
    "id": "63YdQVvcf3YR"
   },
   "outputs": [],
   "source": [
    "df = df.drop(['ID','Description','Distance(mi)', 'End_Time',\n",
    "              'End_Lat', 'End_Lng'], axis=1)"
   ]
  },
  {
   "cell_type": "code",
   "execution_count": 9,
   "metadata": {
    "colab": {
     "base_uri": "https://localhost:8080/"
    },
    "id": "ATkb-TaCf3aK",
    "outputId": "c9ab906e-df46-4d13-e638-fe3d83726d8d"
   },
   "outputs": [
    {
     "name": "stdout",
     "output_type": "stream",
     "text": [
      "Unique count of categorical features:\n",
      "Country 1\n",
      "Timezone 5\n",
      "Amenity 2\n",
      "Bump 2\n",
      "Crossing 2\n",
      "Give_Way 2\n",
      "Junction 2\n",
      "No_Exit 2\n",
      "Railway 2\n",
      "Roundabout 1\n",
      "Station 2\n",
      "Stop 2\n",
      "Traffic_Calming 2\n",
      "Traffic_Signal 2\n",
      "Turning_Loop 1\n",
      "Sunrise_Sunset 3\n",
      "Civil_Twilight 3\n",
      "Nautical_Twilight 3\n",
      "Astronomical_Twilight 3\n"
     ]
    }
   ],
   "source": [
    "cat_names = ['Country', 'Timezone', 'Amenity', 'Bump', 'Crossing',\n",
    "             'Give_Way', 'Junction', 'No_Exit', 'Railway', 'Roundabout', 'Station',\n",
    "             'Stop', 'Traffic_Calming', 'Traffic_Signal', 'Turning_Loop', 'Sunrise_Sunset',\n",
    "             'Civil_Twilight', 'Nautical_Twilight', 'Astronomical_Twilight']\n",
    "print(\"Unique count of categorical features:\")\n",
    "for i in cat_names:\n",
    "  print(i,df[i].unique().size)"
   ]
  },
  {
   "cell_type": "code",
   "execution_count": 10,
   "metadata": {
    "id": "pvAyBdcnf3y5"
   },
   "outputs": [],
   "source": [
    "#Drop 'Country' and 'Turning_Loop' for they have only one class.\n",
    "df = df.drop(['Country','Turning_Loop'], axis=1)"
   ]
  },
  {
   "cell_type": "code",
   "execution_count": 11,
   "metadata": {
    "colab": {
     "base_uri": "https://localhost:8080/"
    },
    "id": "8rBlDFlTf33E",
    "outputId": "f2da93e2-4862-4b16-9e63-7bb1d9e95dd2"
   },
   "outputs": [
    {
     "name": "stdout",
     "output_type": "stream",
     "text": [
      "Wind Direction:  ['North' 'SSW' 'CALM' 'South' 'SE' 'WNW' nan 'Calm' 'NE' 'NW' 'NNW' 'SSE'\n",
      " 'ENE' 'VAR' 'WSW' 'W' 'E' 'West' 'N' 'NNE' 'ESE' 'S' 'SW' 'Variable'\n",
      " 'East']\n"
     ]
    }
   ],
   "source": [
    "print(\"Wind Direction: \", df['Wind_Direction'].unique())"
   ]
  },
  {
   "cell_type": "code",
   "execution_count": 12,
   "metadata": {
    "colab": {
     "base_uri": "https://localhost:8080/"
    },
    "id": "Iqu8NlUrMgu5",
    "outputId": "16362513-0ff3-40c5-de68-27192406bc55"
   },
   "outputs": [
    {
     "name": "stdout",
     "output_type": "stream",
     "text": [
      "Number of missing values in 'Wind Direction' column: 952\n"
     ]
    }
   ],
   "source": [
    "#count of missing value in \"wind_direction\" coloumn\n",
    "missing_values_count= df['Wind_Direction'].isnull().sum()\n",
    "print(\"Number of missing values in 'Wind Direction' column:\", missing_values_count)"
   ]
  },
  {
   "cell_type": "code",
   "execution_count": 13,
   "metadata": {
    "colab": {
     "base_uri": "https://localhost:8080/"
    },
    "id": "I9MFwzKoMgy6",
    "outputId": "d3a936ee-07a5-4000-c4c1-57abd391bc7e"
   },
   "outputs": [
    {
     "name": "stdout",
     "output_type": "stream",
     "text": [
      "Missing values in 'Wind Direction' column:\n",
      "[nan]\n"
     ]
    }
   ],
   "source": [
    "#finding unique missing value in \"wind_direction\" coloumn\n",
    "missing_values = df['Wind_Direction'][df['Wind_Direction'].isnull()]\n",
    "unique_missing_values = missing_values.unique()\n",
    "print(\"Missing values in 'Wind Direction' column:\")\n",
    "print(unique_missing_values)"
   ]
  },
  {
   "cell_type": "code",
   "execution_count": 14,
   "metadata": {
    "colab": {
     "base_uri": "https://localhost:8080/"
    },
    "id": "hVaNjz1mMg2v",
    "outputId": "f6f17e09-f975-47aa-c0ef-8d70ff7d2ec8"
   },
   "outputs": [
    {
     "name": "stdout",
     "output_type": "stream",
     "text": [
      "Wind Direction after simplification:  ['N' 'S' 'CALM' 'W' nan 'E' 'VAR']\n"
     ]
    }
   ],
   "source": [
    "# Simplify wind direction\n",
    "\n",
    "df.loc[df['Wind_Direction']=='Calm','Wind_Direction'] = 'CALM'\n",
    "df.loc[(df['Wind_Direction']=='West')|(df['Wind_Direction']=='WSW')|(df['Wind_Direction']=='WNW'),'Wind_Direction'] = 'W'\n",
    "df.loc[(df['Wind_Direction']=='South')|(df['Wind_Direction']=='SSW')|(df['Wind_Direction']=='SSE')|(df['Wind_Direction']=='SE')|(df['Wind_Direction']=='SW'),'Wind_Direction'] = 'S'\n",
    "df.loc[(df['Wind_Direction']=='North')|(df['Wind_Direction']=='NNW')|(df['Wind_Direction']=='NNE')|(df['Wind_Direction']=='NE')|(df['Wind_Direction']=='NW'),'Wind_Direction'] = 'N'\n",
    "df.loc[(df['Wind_Direction']=='East')|(df['Wind_Direction']=='ESE')|(df['Wind_Direction']=='ENE'),'Wind_Direction'] = 'E'\n",
    "df.loc[df['Wind_Direction']=='Variable','Wind_Direction'] = 'VAR'\n",
    "print(\"Wind Direction after simplification: \", df['Wind_Direction'].unique())\n"
   ]
  },
  {
   "cell_type": "code",
   "execution_count": null,
   "metadata": {
    "id": "70vGcVXLMg5x"
   },
   "outputs": [],
   "source": []
  },
  {
   "cell_type": "code",
   "execution_count": null,
   "metadata": {
    "id": "S09fZQVQMg9C"
   },
   "outputs": [],
   "source": []
  },
  {
   "cell_type": "code",
   "execution_count": null,
   "metadata": {
    "id": "boxbBDtcMhAa"
   },
   "outputs": [],
   "source": []
  },
  {
   "cell_type": "code",
   "execution_count": null,
   "metadata": {
    "id": "sZPG2KGhMhDT"
   },
   "outputs": [],
   "source": []
  },
  {
   "cell_type": "code",
   "execution_count": null,
   "metadata": {
    "id": "NL6vT2C9MhGW"
   },
   "outputs": [],
   "source": []
  },
  {
   "cell_type": "code",
   "execution_count": null,
   "metadata": {
    "id": "zIUnnSQ6MhJi"
   },
   "outputs": [],
   "source": []
  },
  {
   "cell_type": "code",
   "execution_count": null,
   "metadata": {
    "id": "t6NMUOFKMhMu"
   },
   "outputs": [],
   "source": []
  },
  {
   "cell_type": "code",
   "execution_count": null,
   "metadata": {
    "id": "BznQr0eOMhPo"
   },
   "outputs": [],
   "source": []
  },
  {
   "cell_type": "code",
   "execution_count": null,
   "metadata": {
    "id": "SveppKIeMhSs"
   },
   "outputs": [],
   "source": []
  },
  {
   "cell_type": "code",
   "execution_count": null,
   "metadata": {
    "id": "JYOWnnxFMhV1"
   },
   "outputs": [],
   "source": []
  },
  {
   "cell_type": "code",
   "execution_count": null,
   "metadata": {
    "id": "Q0_rbTuZMhZJ"
   },
   "outputs": [],
   "source": []
  }
 ],
 "metadata": {
  "colab": {
   "provenance": []
  },
  "kernelspec": {
   "display_name": "Python 3 (ipykernel)",
   "language": "python",
   "name": "python3"
  },
  "language_info": {
   "codemirror_mode": {
    "name": "ipython",
    "version": 3
   },
   "file_extension": ".py",
   "mimetype": "text/x-python",
   "name": "python",
   "nbconvert_exporter": "python",
   "pygments_lexer": "ipython3",
   "version": "3.11.5"
  }
 },
 "nbformat": 4,
 "nbformat_minor": 4
}
